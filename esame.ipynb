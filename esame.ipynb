{
 "cells": [
  {
   "cell_type": "code",
   "execution_count": 1,
   "id": "761997dc",
   "metadata": {},
   "outputs": [],
   "source": [
    "import numpy as np\n",
    "import pandas as pd\n",
    "import matplotlib.pyplot as plt\n",
    "import math"
   ]
  },
  {
   "cell_type": "code",
   "execution_count": 2,
   "id": "c6f45faf",
   "metadata": {},
   "outputs": [],
   "source": [
    "dati   = np.genfromtxt('Minimi.csv', delimiter=';')"
   ]
  },
  {
   "cell_type": "code",
   "execution_count": 3,
   "id": "523edb7c",
   "metadata": {},
   "outputs": [],
   "source": [
    "def SIJ(dati,i,j):\n",
    "    num   = dati[:,1]**i * dati[:,0]**j\n",
    "    denom = dati[:,2]**2\n",
    "    return np.sum(num/denom)"
   ]
  },
  {
   "cell_type": "code",
   "execution_count": 4,
   "id": "96ab7ac9",
   "metadata": {},
   "outputs": [],
   "source": [
    "D = SIJ(dati,0,0) * SIJ(dati,2,0) - SIJ(dati,1,0)**2"
   ]
  },
  {
   "cell_type": "code",
   "execution_count": 5,
   "id": "63f29e45",
   "metadata": {},
   "outputs": [],
   "source": [
    "m = SIJ(dati,0,0)*SIJ(dati,1,1) - SIJ(dati,1,0)*SIJ(dati,0,1)\n",
    "m = m/D"
   ]
  },
  {
   "cell_type": "code",
   "execution_count": 6,
   "id": "da656ce0",
   "metadata": {},
   "outputs": [],
   "source": [
    "q = SIJ(dati,0,1)*SIJ(dati,2,0) - SIJ(dati,1,1)*SIJ(dati,1,0)\n",
    "q = q/D"
   ]
  },
  {
   "cell_type": "code",
   "execution_count": 7,
   "id": "9206cd9a",
   "metadata": {},
   "outputs": [
    {
     "data": {
      "text/plain": [
       "187418.31622324226"
      ]
     },
     "execution_count": 7,
     "metadata": {},
     "output_type": "execute_result"
    }
   ],
   "source": [
    "m"
   ]
  },
  {
   "cell_type": "code",
   "execution_count": 8,
   "id": "719b398b",
   "metadata": {},
   "outputs": [
    {
     "data": {
      "text/plain": [
       "1.5637222029709963"
      ]
     },
     "execution_count": 8,
     "metadata": {},
     "output_type": "execute_result"
    }
   ],
   "source": [
    "q"
   ]
  },
  {
   "cell_type": "code",
   "execution_count": 11,
   "id": "c0d1bc5f",
   "metadata": {
    "scrolled": true
   },
   "outputs": [
    {
     "data": {
      "text/plain": [
       "<ErrorbarContainer object of 3 artists>"
      ]
     },
     "execution_count": 11,
     "metadata": {},
     "output_type": "execute_result"
    },
    {
     "data": {
      "image/png": "[encoded data removed]",
      "text/plain": [
       "<Figure size 640x480 with 1 Axes>"
      ]
     },
     "metadata": {},
     "output_type": "display_data"
    }
   ],
   "source": [
    "plt.errorbar(dati[:,1], dati[:,0], yerr = dati[:,2], fmt = '.')\n",
    "plt.errorbar(dati[:,1], m*dati[:,1] + q)"
   ]
  },
  {
   "cell_type": "code",
   "execution_count": 12,
   "id": "eb03a750",
   "metadata": {},
   "outputs": [],
   "source": [
    "var_m = SIJ(dati,0,0)/D"
   ]
  },
  {
   "cell_type": "code",
   "execution_count": 13,
   "id": "209ede5a",
   "metadata": {},
   "outputs": [],
   "source": [
    "var_q = SIJ(dati,2,0)/D"
   ]
  },
  {
   "cell_type": "code",
   "execution_count": 14,
   "id": "a0f80401",
   "metadata": {},
   "outputs": [
    {
     "data": {
      "text/plain": [
       "220553.36119367552"
      ]
     },
     "execution_count": 14,
     "metadata": {},
     "output_type": "execute_result"
    }
   ],
   "source": [
    "var_m"
   ]
  },
  {
   "cell_type": "code",
   "execution_count": 15,
   "id": "134ea481",
   "metadata": {},
   "outputs": [
    {
     "data": {
      "text/plain": [
       "0.024995046800424504"
      ]
     },
     "execution_count": 15,
     "metadata": {},
     "output_type": "execute_result"
    }
   ],
   "source": [
    "var_q"
   ]
  },
  {
   "cell_type": "code",
   "execution_count": null,
   "id": "dbcaf494",
   "metadata": {},
   "outputs": [],
   "source": []
  }
 ],
 "metadata": {
  "kernelspec": {
   "display_name": "Python 3 (ipykernel)",
   "language": "python",
   "name": "python3"
  },
  "language_info": {
   "codemirror_mode": {
    "name": "ipython",
    "version": 3
   },
   "file_extension": ".py",
   "mimetype": "text/x-python",
   "name": "python",
   "nbconvert_exporter": "python",
   "pygments_lexer": "ipython3",
   "version": "3.11.4"
  }
 },
 "nbformat": 4,
 "nbformat_minor": 5
}
